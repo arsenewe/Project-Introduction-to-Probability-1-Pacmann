{
  "cells": [
    {
      "cell_type": "markdown",
      "metadata": {
        "id": "2qtY1EdiQmEu"
      },
      "source": [
        "# Project Introduction to Probability I\n",
        "\n",
        "by septian-BTDf"
      ]
    },
    {
      "cell_type": "code",
      "execution_count": 1,
      "metadata": {
        "id": "s2O2BYAoQYa8"
      },
      "outputs": [],
      "source": [
        "import numpy as np\n",
        "import pandas as pd"
      ]
    },
    {
      "cell_type": "code",
      "execution_count": 2,
      "metadata": {
        "colab": {
          "base_uri": "https://localhost:8080/",
          "height": 419
        },
        "id": "T5D15aGJQt0C",
        "outputId": "bba5cf7a-3adf-439e-820a-15c8c218a750"
      },
      "outputs": [
        {
          "data": {
            "text/html": [
              "<div>\n",
              "<style scoped>\n",
              "    .dataframe tbody tr th:only-of-type {\n",
              "        vertical-align: middle;\n",
              "    }\n",
              "\n",
              "    .dataframe tbody tr th {\n",
              "        vertical-align: top;\n",
              "    }\n",
              "\n",
              "    .dataframe thead th {\n",
              "        text-align: right;\n",
              "    }\n",
              "</style>\n",
              "<table border=\"1\" class=\"dataframe\">\n",
              "  <thead>\n",
              "    <tr style=\"text-align: right;\">\n",
              "      <th></th>\n",
              "      <th>age</th>\n",
              "      <th>sex</th>\n",
              "      <th>bmi</th>\n",
              "      <th>children</th>\n",
              "      <th>smoker</th>\n",
              "      <th>region</th>\n",
              "      <th>charges</th>\n",
              "    </tr>\n",
              "  </thead>\n",
              "  <tbody>\n",
              "    <tr>\n",
              "      <th>0</th>\n",
              "      <td>19</td>\n",
              "      <td>female</td>\n",
              "      <td>27.900</td>\n",
              "      <td>0</td>\n",
              "      <td>yes</td>\n",
              "      <td>southwest</td>\n",
              "      <td>16884.92400</td>\n",
              "    </tr>\n",
              "    <tr>\n",
              "      <th>1</th>\n",
              "      <td>18</td>\n",
              "      <td>male</td>\n",
              "      <td>33.770</td>\n",
              "      <td>1</td>\n",
              "      <td>no</td>\n",
              "      <td>southeast</td>\n",
              "      <td>1725.55230</td>\n",
              "    </tr>\n",
              "    <tr>\n",
              "      <th>2</th>\n",
              "      <td>28</td>\n",
              "      <td>male</td>\n",
              "      <td>33.000</td>\n",
              "      <td>3</td>\n",
              "      <td>no</td>\n",
              "      <td>southeast</td>\n",
              "      <td>4449.46200</td>\n",
              "    </tr>\n",
              "    <tr>\n",
              "      <th>3</th>\n",
              "      <td>33</td>\n",
              "      <td>male</td>\n",
              "      <td>22.705</td>\n",
              "      <td>0</td>\n",
              "      <td>no</td>\n",
              "      <td>northwest</td>\n",
              "      <td>21984.47061</td>\n",
              "    </tr>\n",
              "    <tr>\n",
              "      <th>4</th>\n",
              "      <td>32</td>\n",
              "      <td>male</td>\n",
              "      <td>28.880</td>\n",
              "      <td>0</td>\n",
              "      <td>no</td>\n",
              "      <td>northwest</td>\n",
              "      <td>3866.85520</td>\n",
              "    </tr>\n",
              "  </tbody>\n",
              "</table>\n",
              "</div>"
            ],
            "text/plain": [
              "   age     sex     bmi  children smoker     region      charges\n",
              "0   19  female  27.900         0    yes  southwest  16884.92400\n",
              "1   18    male  33.770         1     no  southeast   1725.55230\n",
              "2   28    male  33.000         3     no  southeast   4449.46200\n",
              "3   33    male  22.705         0     no  northwest  21984.47061\n",
              "4   32    male  28.880         0     no  northwest   3866.85520"
            ]
          },
          "execution_count": 2,
          "metadata": {},
          "output_type": "execute_result"
        }
      ],
      "source": [
        "\n",
        "df = pd.read_csv('insurance.csv')\n",
        "df.head()"
      ]
    },
    {
      "cell_type": "markdown",
      "metadata": {
        "id": "4H-Y4Z3RRIwS"
      },
      "source": [
        "### **SOAL NOMOR 1**\n",
        "5 Soal\n",
        "1. Rata-rata umur pengguna\n",
        "2. Rata-rata nilai BMI dari pengguna yang merokok\n",
        "3. Apakah rata rata umur perempuan dan laki-laki yang merokok sama\n",
        "4. BMI mana yang lebih tinggi, seseorang laki-laki atau perempuan\n",
        "5. BMI mana yang lebih tinggi, seseorang perokok atau non perokok"
      ]
    },
    {
      "cell_type": "markdown",
      "metadata": {
        "id": "WWaCVNYwbfpi"
      },
      "source": [
        "#### Rata-rata umur pengguna"
      ]
    },
    {
      "cell_type": "code",
      "execution_count": 3,
      "metadata": {
        "colab": {
          "base_uri": "https://localhost:8080/"
        },
        "id": "_x-L4qwoQ4Qi",
        "outputId": "32f76c80-441a-4259-f7b6-7d112e9b7ead"
      },
      "outputs": [
        {
          "name": "stdout",
          "output_type": "stream",
          "text": [
            "Rata-rata umur pengguna :  39.20702541106129\n"
          ]
        }
      ],
      "source": [
        "# Nomor 1 : Rata-rata umur pengguna\n",
        "print('Rata-rata umur pengguna : ', df['age'].mean())"
      ]
    },
    {
      "cell_type": "markdown",
      "metadata": {
        "id": "leHI0UckcVRi"
      },
      "source": [
        "#### Rata-rata nilai BMI dari pengguna yang merokok"
      ]
    },
    {
      "cell_type": "code",
      "execution_count": 4,
      "metadata": {
        "colab": {
          "base_uri": "https://localhost:8080/"
        },
        "id": "QUcLuB4nSSST",
        "outputId": "d482b0eb-1d45-413d-cceb-45c082b27010"
      },
      "outputs": [
        {
          "name": "stdout",
          "output_type": "stream",
          "text": [
            "Rata-rata nilai BMI dari pengguna yang merokok :  30.70844890510949\n"
          ]
        }
      ],
      "source": [
        "# Nomor 2 : Rata-rata nilai BMI dari pengguna yang merokok\n",
        "bmi_mean = df.groupby('smoker')['bmi'].mean()\n",
        "print('Rata-rata nilai BMI dari pengguna yang merokok : ', bmi_mean['yes'])"
      ]
    },
    {
      "cell_type": "markdown",
      "metadata": {
        "id": "Eylfv5bGcbjA"
      },
      "source": [
        "#### Apakah rata rata umur perempuan dan laki-laki yang merokok sama"
      ]
    },
    {
      "cell_type": "code",
      "execution_count": 5,
      "metadata": {
        "colab": {
          "base_uri": "https://localhost:8080/"
        },
        "id": "IwI5OYk2VBDL",
        "outputId": "f85e2291-cf07-4cf4-a468-3f32b9159fbd"
      },
      "outputs": [
        {
          "name": "stdout",
          "output_type": "stream",
          "text": [
            "Rata-rata Perempuan Merokok :  0.17371601208459214 \n",
            "Rata-rata Laki-laki Merokok :  0.17371601208459214\n",
            "\n",
            "Berdasarkan hasil tersebut bahwa rata-rata perempuan dan laki-laki yang merokok tidak sama\n"
          ]
        }
      ],
      "source": [
        "# Nomor 3 : Apakah rata rata umur perempuan dan laki-laki yang merokok sama\n",
        "from sklearn.preprocessing import LabelEncoder\n",
        "\n",
        "# Inisiasi label encoder\n",
        "encode = LabelEncoder()\n",
        "\n",
        "# Terpakan label encoder\n",
        "df['smoker'] = encode.fit_transform(df['smoker'])\n",
        "\n",
        "# Cek hasil\n",
        "df.head()\n",
        "sex_mean = df.groupby('sex')['smoker'].mean()\n",
        "print('Rata-rata Perempuan Merokok : ', sex_mean[0], '\\nRata-rata Laki-laki Merokok : ', sex_mean[0])\n",
        "print('\\nBerdasarkan hasil tersebut bahwa rata-rata perempuan dan laki-laki yang merokok tidak sama')"
      ]
    },
    {
      "cell_type": "markdown",
      "metadata": {
        "id": "5L3ATEVhcfNo"
      },
      "source": [
        "#### BMI mana yang lebih tinggi, seseorang laki-laki atau perempuan"
      ]
    },
    {
      "cell_type": "code",
      "execution_count": 6,
      "metadata": {
        "colab": {
          "base_uri": "https://localhost:8080/"
        },
        "id": "2pmGZ-03wDWZ",
        "outputId": "833af7fe-df3e-4cb7-e4d9-d3ca6e460071"
      },
      "outputs": [
        {
          "name": "stdout",
          "output_type": "stream",
          "text": [
            "BMI Perempuan :  30.37774924471299 \n",
            "BMI Laki-laki :  30.943128698224854\n",
            "\n",
            "Berdasarkan hasil tersebut maka BMI yang lebih tinggi adalah BMI Laki-laki\n"
          ]
        }
      ],
      "source": [
        "# Nomor 4 : BMI mana yang lebih tinggi, seseorang laki-laki atau perempuan\n",
        "hingest_bmi_by_sex = df.groupby('sex')['bmi'].mean()\n",
        "print('BMI Perempuan : ', hingest_bmi_by_sex[0], '\\nBMI Laki-laki : ', hingest_bmi_by_sex[1])\n",
        "print('\\nBerdasarkan hasil tersebut maka BMI yang lebih tinggi adalah BMI Laki-laki')"
      ]
    },
    {
      "cell_type": "markdown",
      "metadata": {
        "id": "bLg5JFWTcimz"
      },
      "source": [
        "#### BMI mana yang lebih tinggi, seseorang perokok atau non perokok"
      ]
    },
    {
      "cell_type": "code",
      "execution_count": 7,
      "metadata": {
        "colab": {
          "base_uri": "https://localhost:8080/"
        },
        "id": "3NOOSUoYxFZg",
        "outputId": "f49a2d40-cfe2-4913-a956-f5d5fa9e53b1"
      },
      "outputs": [
        {
          "name": "stdout",
          "output_type": "stream",
          "text": [
            "BMI Perokok     :  30.651795112781954 \n",
            "BMI Non-Perokok :  30.70844890510949\n",
            "\n",
            "Berdasarkan hasil tersebut maka BMI yang lebih tinggi adalah BMI Non-Perokok\n"
          ]
        }
      ],
      "source": [
        "# Nomor 5 : BMI mana yang lebih tinggi, seseorang perokok atau non perokok\n",
        "hingest_bmi_by_smoker = df.groupby('smoker')['bmi'].mean()\n",
        "print('BMI Perokok     : ', hingest_bmi_by_smoker[0], '\\nBMI Non-Perokok : ', hingest_bmi_by_smoker[1])\n",
        "print('\\nBerdasarkan hasil tersebut maka BMI yang lebih tinggi adalah BMI Non-Perokok')"
      ]
    },
    {
      "cell_type": "markdown",
      "metadata": {
        "id": "ZQu-xedyyDe5"
      },
      "source": [
        "### **SOAL NOMOR 2**\n",
        "5 Soal\n",
        "1. Gender mana yang memiliki tagihan paling tinggi?\n",
        "2. Apakah setiap region memiliki proporsi data banyak orang yang sama?\n",
        "3. Mana yang lebih tinggi proporsi perokok atau non perokok?\n",
        "4. Berapa peluang seseorang tersebut adalah perempuan diketahui dia adalah perokok?\n",
        "5. Berapa peluang seseorang tersebut adalah laki-laki diketahui dia adalah perokok?"
      ]
    },
    {
      "cell_type": "code",
      "execution_count": 8,
      "metadata": {
        "colab": {
          "base_uri": "https://localhost:8080/",
          "height": 612
        },
        "id": "fQMw3hX_3ubU",
        "outputId": "57b5dcfa-e926-465f-c0a2-27a2035faa52"
      },
      "outputs": [
        {
          "name": "stdout",
          "output_type": "stream",
          "text": [
            "      age     sex     bmi  children  smoker     region      charges\n",
            "0      19  female  27.900         0       1  southwest  16884.92400\n",
            "1      18    male  33.770         1       0  southeast   1725.55230\n",
            "2      28    male  33.000         3       0  southeast   4449.46200\n",
            "3      33    male  22.705         0       0  northwest  21984.47061\n",
            "4      32    male  28.880         0       0  northwest   3866.85520\n",
            "...   ...     ...     ...       ...     ...        ...          ...\n",
            "1333   50    male  30.970         3       0  northwest  10600.54830\n",
            "1334   18  female  31.920         0       0  northeast   2205.98080\n",
            "1335   18  female  36.850         0       0  southeast   1629.83350\n",
            "1336   21  female  25.800         0       0  southwest   2007.94500\n",
            "1337   61  female  29.070         0       1  northwest  29141.36030\n",
            "\n",
            "[1338 rows x 7 columns]\n",
            "age           int64\n",
            "sex          object\n",
            "bmi         float64\n",
            "children      int64\n",
            "smoker        int64\n",
            "region       object\n",
            "charges     float64\n",
            "dtype: object\n",
            "\n",
            "KORELASI DATA\n"
          ]
        },
        {
          "data": {
            "text/html": [
              "<div>\n",
              "<style scoped>\n",
              "    .dataframe tbody tr th:only-of-type {\n",
              "        vertical-align: middle;\n",
              "    }\n",
              "\n",
              "    .dataframe tbody tr th {\n",
              "        vertical-align: top;\n",
              "    }\n",
              "\n",
              "    .dataframe thead th {\n",
              "        text-align: right;\n",
              "    }\n",
              "</style>\n",
              "<table border=\"1\" class=\"dataframe\">\n",
              "  <thead>\n",
              "    <tr style=\"text-align: right;\">\n",
              "      <th></th>\n",
              "      <th>age</th>\n",
              "      <th>bmi</th>\n",
              "      <th>children</th>\n",
              "      <th>smoker</th>\n",
              "      <th>charges</th>\n",
              "    </tr>\n",
              "    <tr>\n",
              "      <th>region</th>\n",
              "      <th></th>\n",
              "      <th></th>\n",
              "      <th></th>\n",
              "      <th></th>\n",
              "      <th></th>\n",
              "    </tr>\n",
              "  </thead>\n",
              "  <tbody>\n",
              "    <tr>\n",
              "      <th>northeast</th>\n",
              "      <td>39.268519</td>\n",
              "      <td>29.173503</td>\n",
              "      <td>1.046296</td>\n",
              "      <td>0.206790</td>\n",
              "      <td>13406.384516</td>\n",
              "    </tr>\n",
              "    <tr>\n",
              "      <th>northwest</th>\n",
              "      <td>39.196923</td>\n",
              "      <td>29.199785</td>\n",
              "      <td>1.147692</td>\n",
              "      <td>0.178462</td>\n",
              "      <td>12417.575374</td>\n",
              "    </tr>\n",
              "    <tr>\n",
              "      <th>southeast</th>\n",
              "      <td>38.939560</td>\n",
              "      <td>33.355989</td>\n",
              "      <td>1.049451</td>\n",
              "      <td>0.250000</td>\n",
              "      <td>14735.411438</td>\n",
              "    </tr>\n",
              "    <tr>\n",
              "      <th>southwest</th>\n",
              "      <td>39.455385</td>\n",
              "      <td>30.596615</td>\n",
              "      <td>1.141538</td>\n",
              "      <td>0.178462</td>\n",
              "      <td>12346.937377</td>\n",
              "    </tr>\n",
              "  </tbody>\n",
              "</table>\n",
              "</div>"
            ],
            "text/plain": [
              "                 age        bmi  children    smoker       charges\n",
              "region                                                           \n",
              "northeast  39.268519  29.173503  1.046296  0.206790  13406.384516\n",
              "northwest  39.196923  29.199785  1.147692  0.178462  12417.575374\n",
              "southeast  38.939560  33.355989  1.049451  0.250000  14735.411438\n",
              "southwest  39.455385  30.596615  1.141538  0.178462  12346.937377"
            ]
          },
          "execution_count": 8,
          "metadata": {},
          "output_type": "execute_result"
        }
      ],
      "source": [
        "print(df)\n",
        "print(df.dtypes)\n",
        "print('\\nKORELASI DATA')\n",
        "df.corr()\n",
        "df.groupby('region').mean()"
      ]
    },
    {
      "cell_type": "code",
      "execution_count": 9,
      "metadata": {
        "colab": {
          "base_uri": "https://localhost:8080/",
          "height": 535
        },
        "id": "AlnAJsJI5Zox",
        "outputId": "f795372c-d10c-4a53-946a-dfd2dac9ec90"
      },
      "outputs": [
        {
          "name": "stdout",
          "output_type": "stream",
          "text": [
            "<class 'pandas.core.frame.DataFrame'>\n",
            "RangeIndex: 1338 entries, 0 to 1337\n",
            "Data columns (total 7 columns):\n",
            " #   Column    Non-Null Count  Dtype  \n",
            "---  ------    --------------  -----  \n",
            " 0   age       1338 non-null   int64  \n",
            " 1   sex       1338 non-null   object \n",
            " 2   bmi       1338 non-null   float64\n",
            " 3   children  1338 non-null   int64  \n",
            " 4   smoker    1338 non-null   int64  \n",
            " 5   region    1338 non-null   object \n",
            " 6   charges   1338 non-null   float64\n",
            "dtypes: float64(2), int64(3), object(2)\n",
            "memory usage: 73.3+ KB\n"
          ]
        },
        {
          "data": {
            "text/html": [
              "<div>\n",
              "<style scoped>\n",
              "    .dataframe tbody tr th:only-of-type {\n",
              "        vertical-align: middle;\n",
              "    }\n",
              "\n",
              "    .dataframe tbody tr th {\n",
              "        vertical-align: top;\n",
              "    }\n",
              "\n",
              "    .dataframe thead th {\n",
              "        text-align: right;\n",
              "    }\n",
              "</style>\n",
              "<table border=\"1\" class=\"dataframe\">\n",
              "  <thead>\n",
              "    <tr style=\"text-align: right;\">\n",
              "      <th></th>\n",
              "      <th>age</th>\n",
              "      <th>bmi</th>\n",
              "      <th>children</th>\n",
              "      <th>smoker</th>\n",
              "      <th>charges</th>\n",
              "    </tr>\n",
              "  </thead>\n",
              "  <tbody>\n",
              "    <tr>\n",
              "      <th>count</th>\n",
              "      <td>1338.000000</td>\n",
              "      <td>1338.000000</td>\n",
              "      <td>1338.000000</td>\n",
              "      <td>1338.000000</td>\n",
              "      <td>1338.000000</td>\n",
              "    </tr>\n",
              "    <tr>\n",
              "      <th>mean</th>\n",
              "      <td>39.207025</td>\n",
              "      <td>30.663397</td>\n",
              "      <td>1.094918</td>\n",
              "      <td>0.204783</td>\n",
              "      <td>13270.422265</td>\n",
              "    </tr>\n",
              "    <tr>\n",
              "      <th>std</th>\n",
              "      <td>14.049960</td>\n",
              "      <td>6.098187</td>\n",
              "      <td>1.205493</td>\n",
              "      <td>0.403694</td>\n",
              "      <td>12110.011237</td>\n",
              "    </tr>\n",
              "    <tr>\n",
              "      <th>min</th>\n",
              "      <td>18.000000</td>\n",
              "      <td>15.960000</td>\n",
              "      <td>0.000000</td>\n",
              "      <td>0.000000</td>\n",
              "      <td>1121.873900</td>\n",
              "    </tr>\n",
              "    <tr>\n",
              "      <th>25%</th>\n",
              "      <td>27.000000</td>\n",
              "      <td>26.296250</td>\n",
              "      <td>0.000000</td>\n",
              "      <td>0.000000</td>\n",
              "      <td>4740.287150</td>\n",
              "    </tr>\n",
              "    <tr>\n",
              "      <th>50%</th>\n",
              "      <td>39.000000</td>\n",
              "      <td>30.400000</td>\n",
              "      <td>1.000000</td>\n",
              "      <td>0.000000</td>\n",
              "      <td>9382.033000</td>\n",
              "    </tr>\n",
              "    <tr>\n",
              "      <th>75%</th>\n",
              "      <td>51.000000</td>\n",
              "      <td>34.693750</td>\n",
              "      <td>2.000000</td>\n",
              "      <td>0.000000</td>\n",
              "      <td>16639.912515</td>\n",
              "    </tr>\n",
              "    <tr>\n",
              "      <th>max</th>\n",
              "      <td>64.000000</td>\n",
              "      <td>53.130000</td>\n",
              "      <td>5.000000</td>\n",
              "      <td>1.000000</td>\n",
              "      <td>63770.428010</td>\n",
              "    </tr>\n",
              "  </tbody>\n",
              "</table>\n",
              "</div>"
            ],
            "text/plain": [
              "               age          bmi     children       smoker       charges\n",
              "count  1338.000000  1338.000000  1338.000000  1338.000000   1338.000000\n",
              "mean     39.207025    30.663397     1.094918     0.204783  13270.422265\n",
              "std      14.049960     6.098187     1.205493     0.403694  12110.011237\n",
              "min      18.000000    15.960000     0.000000     0.000000   1121.873900\n",
              "25%      27.000000    26.296250     0.000000     0.000000   4740.287150\n",
              "50%      39.000000    30.400000     1.000000     0.000000   9382.033000\n",
              "75%      51.000000    34.693750     2.000000     0.000000  16639.912515\n",
              "max      64.000000    53.130000     5.000000     1.000000  63770.428010"
            ]
          },
          "execution_count": 9,
          "metadata": {},
          "output_type": "execute_result"
        }
      ],
      "source": [
        "df = pd.DataFrame(df)\n",
        "df.head()\n",
        "\n",
        "df.info()\n",
        "\n",
        "df.shape\n",
        "\n",
        "df.describe()"
      ]
    },
    {
      "cell_type": "code",
      "execution_count": 10,
      "metadata": {
        "id": "LwoTbCb45_ne"
      },
      "outputs": [],
      "source": [
        "import matplotlib.pyplot as plt \n",
        "import seaborn as sns"
      ]
    },
    {
      "cell_type": "markdown",
      "metadata": {
        "id": "Oi50Gf9Rc29K"
      },
      "source": [
        "#### Gender mana yang memiliki tagihan paling tinggi?"
      ]
    },
    {
      "cell_type": "code",
      "execution_count": 11,
      "metadata": {
        "colab": {
          "base_uri": "https://localhost:8080/"
        },
        "id": "Cbmb1VL-zgJ4",
        "outputId": "185b5cfd-e949-4be3-97ce-f0b3ab269874"
      },
      "outputs": [
        {
          "name": "stdout",
          "output_type": "stream",
          "text": [
            "Laki-laki :  62592.87309 \n",
            "Perempuan :  63770.42801\n",
            "\n",
            "Berdasarkan hasil tersebut bahwa gender laki-laki memiliki tagihan tertinggi\n"
          ]
        }
      ],
      "source": [
        "# Nomor 1 : Gender mana yang memiliki tagihan paling tinggi?\n",
        "hingest_charges_by_sex = df.groupby('sex')['charges'].max()\n",
        "print('Laki-laki : ', hingest_charges_by_sex['male'], '\\nPerempuan : ', hingest_charges_by_sex['female'])\n",
        "print('\\nBerdasarkan hasil tersebut bahwa gender laki-laki memiliki tagihan tertinggi')"
      ]
    },
    {
      "cell_type": "markdown",
      "metadata": {
        "id": "zdSUNuI-c6uS"
      },
      "source": [
        "#### Apakah setiap region memiliki proporsi data banyak orang yang sama?"
      ]
    },
    {
      "cell_type": "code",
      "execution_count": 12,
      "metadata": {
        "colab": {
          "base_uri": "https://localhost:8080/",
          "height": 427
        },
        "id": "oy3G2ffo96sw",
        "outputId": "0a67344a-b183-4de8-b58c-72ff3fcf2d3b"
      },
      "outputs": [
        {
          "name": "stdout",
          "output_type": "stream",
          "text": [
            "Region (northeast) :  0.5007638548546987\n",
            "Region (northwest) :  0.5007496754036933\n",
            "Region (southeast) :  0.5003177629809157\n",
            "Region (southwest) :  0.5007686399618396\n",
            "\n",
            "Dari hasil diatas bahwa setiap proporsi region tidak sama, \n",
            "tapi selisihnya tidak terlalu banyak!\n"
          ]
        },
        {
          "data": {
            "image/png": "[encoded data removed]",
            "text/plain": [
              "<Figure size 432x288 with 1 Axes>"
            ]
          },
          "metadata": {
            "needs_background": "light"
          },
          "output_type": "display_data"
        }
      ],
      "source": [
        "# Nomor 2 : Apakah setiap region memiliki proporsi data banyak orang yang sama?\n",
        "df['region'] = encode.fit_transform(df['region'])\n",
        "df['sex'] = encode.fit_transform(df['sex'])\n",
        "varian_region = df.groupby('region')['sex'].std()\n",
        "\n",
        "print('Region (northeast) : ', varian_region[0])\n",
        "print('Region (northwest) : ', varian_region[1])\n",
        "print('Region (southeast) : ', varian_region[2])\n",
        "print('Region (southwest) : ', varian_region[3])\n",
        "print('\\nDari hasil diatas bahwa setiap proporsi region tidak sama, \\ntapi selisihnya tidak terlalu banyak!')\n",
        "\n",
        "names = ['Region (northeast)', 'Region (northwest)', 'Region (southeast)', 'Region (southwest)']\n",
        "values = [varian_region[0]*100, varian_region[1]*100, varian_region[2]*100, varian_region[3]*100]\n",
        "\n",
        "plt.plot(names, values)\n",
        "plt.suptitle('Proporsi Setiap Region')\n",
        "plt.xlabel('Jenis Region')\n",
        "plt.ylabel('Proporsi')\n",
        "plt.show()"
      ]
    },
    {
      "cell_type": "markdown",
      "metadata": {
        "id": "vHLfVOYkc-Sc"
      },
      "source": [
        "#### Mana yang lebih tinggi proporsi perokok atau non perokok?"
      ]
    },
    {
      "cell_type": "code",
      "execution_count": 13,
      "metadata": {
        "colab": {
          "base_uri": "https://localhost:8080/",
          "height": 393
        },
        "id": "9oMKDWUmlMVu",
        "outputId": "ff7bf1a2-4230-406a-f029-32ec7e567a6d"
      },
      "outputs": [
        {
          "name": "stdout",
          "output_type": "stream",
          "text": [
            "Smoker (YES) :  0.37915157018983286\n",
            "Smoker (NO)  :  0.42444224142403914\n",
            "\n",
            "Dari hasil diatas bahwa proporsi yang lebih tinggi adalah yang perokok \n",
            "meskipun selisihnya sangat tipis!\n"
          ]
        },
        {
          "data": {
            "image/png": "[encoded data removed]",
            "text/plain": [
              "<Figure size 432x288 with 1 Axes>"
            ]
          },
          "metadata": {
            "needs_background": "light"
          },
          "output_type": "display_data"
        }
      ],
      "source": [
        "# Nomor 3 : Mana yang lebih tinggi proporsi perokok atau non perokok?\n",
        "df['smoker']\n",
        "varian_smoker = df.groupby('sex')['smoker'].std()\n",
        "\n",
        "print('Smoker (YES) : ', varian_smoker[0])\n",
        "print('Smoker (NO)  : ', varian_smoker[1])\n",
        "\n",
        "print('\\nDari hasil diatas bahwa proporsi yang lebih tinggi adalah yang perokok \\nmeskipun selisihnya sangat tipis!')\n",
        "\n",
        "names = ['Perokok', 'Non-Perokok']\n",
        "values = [varian_smoker[0]*100, varian_smoker[1]*100]\n",
        "\n",
        "plt.bar(names, values)\n",
        "plt.suptitle('Proporsi Perokok dan Non-Perokok')\n",
        "plt.xlabel('Smoker')\n",
        "plt.ylabel('Proporsi')\n",
        "plt.show()"
      ]
    },
    {
      "cell_type": "markdown",
      "metadata": {
        "id": "UPu6IxSTdBPv"
      },
      "source": [
        "#### Berapa peluang seseorang tersebut adalah perempuan diketahui dia adalah perokok?"
      ]
    },
    {
      "cell_type": "code",
      "execution_count": 14,
      "metadata": {
        "colab": {
          "base_uri": "https://localhost:8080/",
          "height": 342
        },
        "id": "x6Uibn3Qmj8O",
        "outputId": "3244509a-9ea9-46c3-f56a-70f11b83232f"
      },
      "outputs": [
        {
          "name": "stdout",
          "output_type": "stream",
          "text": [
            "Peluang seorang perempuan diketahui merokok adalah senilai       :  0.8262839879154078\n",
            "Peluang seorang perempuan diketahui tidak merokok adalah senilai :  0.17371601208459214\n"
          ]
        },
        {
          "data": {
            "image/png": "[encoded data removed]",
            "text/plain": [
              "<Figure size 432x288 with 1 Axes>"
            ]
          },
          "metadata": {
            "needs_background": "light"
          },
          "output_type": "display_data"
        }
      ],
      "source": [
        "# Nomor 4 : Berapa peluang seseorang tersebut adalah perempuan diketahui dia adalah perokok?\n",
        "# df['sex'] = encode.fit_transform(df['sex'])\n",
        "sex_female = df[(df['sex'] == 0)]\n",
        "\n",
        "sex_female_count = sex_female['sex'].count()\n",
        "\n",
        "smoker_female_yes = sex_female[(sex_female['smoker'] == 0)]\n",
        "smoker_female_no = sex_female[(sex_female['smoker'] == 1)]\n",
        "\n",
        "# P(A) = n(A)/n(S)\n",
        "\n",
        "P_female_yes = smoker_female_yes['smoker'].count() / sex_female_count \n",
        "P_female_no = smoker_female_no['smoker'].count() / sex_female_count \n",
        "\n",
        "print('Peluang seorang perempuan diketahui merokok adalah senilai       : ', P_female_yes)\n",
        "print('Peluang seorang perempuan diketahui tidak merokok adalah senilai : ', P_female_no)\n",
        "\n",
        "names = ['Perokok', 'Non-Perokok']\n",
        "values = [P_female_yes*100, P_female_no*100]\n",
        "\n",
        "plt.bar(names, values)\n",
        "plt.suptitle('Peluang perempuan diketahui perokok')\n",
        "plt.xlabel('Peluang Perempuan')\n",
        "plt.ylabel('Persentase')\n",
        "plt.show()"
      ]
    },
    {
      "cell_type": "markdown",
      "metadata": {
        "id": "C4zaXXSBdEwi"
      },
      "source": [
        "#### Berapa peluang seseorang tersebut adalah laki-laki diketahui dia adalah perokok?"
      ]
    },
    {
      "cell_type": "code",
      "execution_count": 15,
      "metadata": {
        "colab": {
          "base_uri": "https://localhost:8080/",
          "height": 342
        },
        "id": "QRPjP1c8BsHb",
        "outputId": "d0d90ed4-f428-4ae9-ab3d-07bca629bbf2"
      },
      "outputs": [
        {
          "name": "stdout",
          "output_type": "stream",
          "text": [
            "Peluang seorang laki-laki diketahui merokok adalah senilai       :  0.764792899408284\n",
            "Peluang seorang laki-laki diketahui tidak merokok adalah senilai :  0.23520710059171598\n"
          ]
        },
        {
          "data": {
            "image/png": "[encoded data removed]",
            "text/plain": [
              "<Figure size 432x288 with 1 Axes>"
            ]
          },
          "metadata": {
            "needs_background": "light"
          },
          "output_type": "display_data"
        }
      ],
      "source": [
        "# Nomor 5 : Berapa peluang seseorang tersebut adalah laki-laki diketahui dia adalah perokok?\n",
        "# df['sex'] = encode.fit_transform(df['sex'])\n",
        "sex_male = df[(df['sex'] == 1)]\n",
        "\n",
        "sex_male_count = sex_male['sex'].count()\n",
        "\n",
        "smoker_male_yes = sex_male[(sex_male['smoker'] == 0)]\n",
        "smoker_male_no = sex_male[(sex_male['smoker'] == 1)]\n",
        "\n",
        "# P(A) = n(A)/n(S)\n",
        "\n",
        "P_male_yes = smoker_male_yes['smoker'].count() / sex_male_count \n",
        "P_male_no = smoker_male_no['smoker'].count() / sex_male_count \n",
        "\n",
        "print('Peluang seorang laki-laki diketahui merokok adalah senilai       : ', P_male_yes)\n",
        "print('Peluang seorang laki-laki diketahui tidak merokok adalah senilai : ', P_male_no)\n",
        "\n",
        "names = ['Perokok', 'Non-Perokok']\n",
        "values = [P_male_yes*100, P_male_no*100]\n",
        "\n",
        "plt.bar(names, values)\n",
        "plt.suptitle('Peluang laki-laki diketahui perokok')\n",
        "plt.xlabel('Peluang Laki-laki')\n",
        "plt.ylabel('Persentase')\n",
        "plt.show()"
      ]
    },
    {
      "cell_type": "markdown",
      "metadata": {
        "id": "pgxUxmX2zBYY"
      },
      "source": [
        "### **SOAL NOMOR 3**\n",
        "5 Soal\n",
        "1. Mencari peluang besar tagihan berdasarkan BMI\n",
        "2. Mencari kemungkin terjadi, seorang perokok dengan BMI diatas 25 akan mendapatkan tagihan kesehatan di atas 16.700.\n",
        "3. Berapa peluang seseorang acak tagihan kesehatannya diatas 16.7k diketahui dia adalah perokok\n",
        "4. Mana yang lebih mungkin terjadi\n",
        "  - Seseorang dengan BMI diatas 25 mendapatkan tagihan kesehatan diatas 16.7k, atau\n",
        "  - Seseorang dengan BMI dibawah 25 mendapatkan tagihan kesehatan diatas 16.7k\n",
        "5. Mana yang lebih mungkin terjadi\n",
        "  - Seseorang perokok dengan BMI diatas 25 mendapatkan tagihan kesehatan diatas 16.7k, atau\n",
        "  - Seseorang non perokok dengan BMI diatas 25 mendapatkan tagihan kesehatan diatas 16.7k"
      ]
    },
    {
      "cell_type": "markdown",
      "metadata": {
        "id": "G-idiQMydI1v"
      },
      "source": [
        "#### Mencari peluang besar tagihan berdasarkan BMI"
      ]
    },
    {
      "cell_type": "code",
      "execution_count": 16,
      "metadata": {
        "colab": {
          "base_uri": "https://localhost:8080/"
        },
        "id": "yDgW-0dWCG2B",
        "outputId": "ca9b7f8a-21c5-4d9d-bf5a-78fce41768f5"
      },
      "outputs": [
        {
          "data": {
            "text/plain": [
              "0       1149.39590\n",
              "1       1163.46270\n",
              "2       1242.26000\n",
              "3       1242.81600\n",
              "4       1263.24900\n",
              "          ...     \n",
              "543    48824.45000\n",
              "544    49577.66240\n",
              "545    51194.55914\n",
              "546    62592.87309\n",
              "547    63770.42801\n",
              "Name: 0, Length: 548, dtype: float64"
            ]
          },
          "execution_count": 16,
          "metadata": {},
          "output_type": "execute_result"
        }
      ],
      "source": [
        "# Nomor 1 : Mencari peluang besar tagihan berdasarkan BMI\n",
        "bmi_mean = df.groupby('bmi')['charges'].mean()\n",
        "sorting_asc = pd.DataFrame(sorted(bmi_mean))\n",
        "\n",
        "sorting_asc[0]"
      ]
    },
    {
      "cell_type": "markdown",
      "metadata": {
        "id": "TfBBz_gKdLft"
      },
      "source": [
        "#### Mencari kemungkin terjadi, seorang perokok dengan BMI "
      ]
    },
    {
      "cell_type": "code",
      "execution_count": 17,
      "metadata": {
        "colab": {
          "base_uri": "https://localhost:8080/"
        },
        "id": "xBete_ifHWwp",
        "outputId": "fe8e751f-a593-4e48-cef7-dde8eefbacaa"
      },
      "outputs": [
        {
          "name": "stdout",
          "output_type": "stream",
          "text": [
            "0.8195488721804511\n",
            "0.07518796992481203\n",
            "Peluang terjadi :  0.06162021595341738\n"
          ]
        }
      ],
      "source": [
        "# Nomor 2 : Mencari kemungkin terjadi, seorang perokok dengan BMI \n",
        "# diatas 25 akan mendapatkan tagihan kesehatan di atas 16.700.\n",
        "\n",
        "smoker_yes_bmi = df[(df['smoker'] == 0)]\n",
        "\n",
        "bmi_above_25 = smoker_yes_bmi[(smoker_yes_bmi['bmi'] > 25)]\n",
        "\n",
        "charges_above_16 = smoker_yes_bmi[(smoker_yes_bmi['charges'] > 16700)]\n",
        "\n",
        "# P(A) = n(A)/n(S)\n",
        "Pa = bmi_above_25['bmi'].count() / smoker_yes_bmi['bmi'].count()\n",
        "\n",
        "print(Pa)\n",
        "\n",
        "# P(B) = n(B)/n(S)\n",
        "Pb = charges_above_16['charges'].count() / smoker_yes_bmi['charges'].count()\n",
        "\n",
        "print(Pb)\n",
        "\n",
        "# Peluang terjadi antara Pa dan Pb P(A) x P(B)\n",
        "Pt = Pa * Pb\n",
        "\n",
        "print('Peluang terjadi : ', Pt)"
      ]
    },
    {
      "cell_type": "markdown",
      "metadata": {
        "id": "wXF7InVfdP2H"
      },
      "source": [
        "#### Berapa peluang seseorang acak tagihan kesehatannya diatas 16.7k diketahui dia adalah perokok"
      ]
    },
    {
      "cell_type": "code",
      "execution_count": 18,
      "metadata": {
        "colab": {
          "base_uri": "https://localhost:8080/",
          "height": 342
        },
        "id": "nYgZYf7PHcQf",
        "outputId": "398d70af-4c0a-4254-96b1-373496b57cc1"
      },
      "outputs": [
        {
          "name": "stdout",
          "output_type": "stream",
          "text": [
            "Peluang seorang tagihan kesehatannya diatas 16.7k diketahui dia adalah perokok  :  0.07518796992481203\n",
            "Peluang seorang tagihan kesehatannya dibawah 16.7k diketahui dia adalah perokok :  0.924812030075188\n"
          ]
        },
        {
          "data": {
            "image/png": "[encoded data removed]",
            "text/plain": [
              "<Figure size 432x288 with 1 Axes>"
            ]
          },
          "metadata": {
            "needs_background": "light"
          },
          "output_type": "display_data"
        }
      ],
      "source": [
        "# Nomor 3 : Berapa peluang seseorang acak tagihan kesehatannya diatas 16.7k diketahui dia adalah perokok\n",
        "smoker_yes_charges = df[(df['smoker'] == 0)]\n",
        "\n",
        "smoker_yes_charges_count = smoker_yes_charges['smoker'].count()\n",
        "smoker_yes_charges_above_16 = smoker_yes_bmi[(smoker_yes_bmi['charges'] > 16700)]\n",
        "smoker_yes_charges_under_16 = smoker_yes_bmi[(smoker_yes_bmi['charges'] < 16700)]\n",
        "\n",
        "# P(A) = n(A)/n(S)\n",
        "Psmoker_charges_up = smoker_yes_charges_above_16['charges'].count() / smoker_yes_charges_count\n",
        "Psmoker_charges_down = smoker_yes_charges_under_16['charges'].count() / smoker_yes_charges_count\n",
        "\n",
        "print('Peluang seorang tagihan kesehatannya diatas 16.7k diketahui dia adalah perokok  : ', Psmoker_charges_up)\n",
        "print('Peluang seorang tagihan kesehatannya dibawah 16.7k diketahui dia adalah perokok : ', Psmoker_charges_down)\n",
        "\n",
        "names = ['Tagihan diatas 16.7K', 'Tagihan dibawah 16.7K']\n",
        "values = [Psmoker_charges_up*100, Psmoker_charges_down*100]\n",
        "\n",
        "plt.bar(names, values)\n",
        "plt.suptitle('Peluang tagihan perokok')\n",
        "plt.xlabel('Tagihan')\n",
        "plt.ylabel('Persentase')\n",
        "plt.show()"
      ]
    },
    {
      "cell_type": "markdown",
      "metadata": {
        "id": "qEy2wrvhdS6P"
      },
      "source": [
        "#### Mana yang lebih mungkin terjadi \n",
        "##### Seseorang dengan BMI diatas 25 mendapatkan tagihan kesehatan diatas 16.7k, atau Seseorang dengan BMI dibawah 25 mendapatkan tagihan kesehatan diatas 16.7k"
      ]
    },
    {
      "cell_type": "code",
      "execution_count": 19,
      "metadata": {
        "colab": {
          "base_uri": "https://localhost:8080/"
        },
        "id": "FILKIgNQHjU_",
        "outputId": "0271b368-4823-4ef9-d868-dcd79373a6d4"
      },
      "outputs": [
        {
          "name": "stdout",
          "output_type": "stream",
          "text": [
            "Mana yang lebih mungkin terjadi ?\n",
            "A. Seseorang dengan BMI diatas 25 mendapatkan tagihan kesehatan diatas 16.7k  : 0.85\n",
            "B. Seseorang dengan BMI dibawah 25 mendapatkan tagihan kesehatan diatas 16.7k : 0.15\n",
            "\n",
            "Jawaban : \n",
            "A. Seseorang dengan BMI diatas 25 mendapatkan tagihan kesehatan diatas 16.7k dengan hasil :  0.85\n"
          ]
        }
      ],
      "source": [
        "# Mana yang lebih mungkin terjadi\n",
        "# A. Seseorang dengan BMI diatas 25 mendapatkan tagihan kesehatan diatas 16.7k, atau\n",
        "# B. Seseorang dengan BMI dibawah 25 mendapatkan tagihan kesehatan diatas 16.7k\n",
        "\n",
        "smoker_yes_bmi = df[(df['smoker'] == 0)]\n",
        "\n",
        "bmi_above_25 = smoker_yes_bmi[(smoker_yes_bmi['bmi'] > 25)]\n",
        "bmi_under_25 = smoker_yes_bmi[(smoker_yes_bmi['bmi'] < 25)]\n",
        "\n",
        "counta_smoker = smoker_yes_bmi[(smoker_yes_bmi['charges'] > 16700)]\n",
        "bmi_x_charges_above_16 = bmi_above_25[(bmi_above_25['charges'] > 16700)]\n",
        "bmi_y_charges_above_16 = bmi_under_25[(bmi_under_25['charges'] > 16700)]\n",
        "\n",
        "# P(A) = n(A)/n(S)\n",
        "Paa = bmi_x_charges_above_16['bmi'].count() / counta_smoker['bmi'].count()\n",
        "Pab = bmi_y_charges_above_16['bmi'].count() / counta_smoker['bmi'].count()\n",
        "\n",
        "print('Mana yang lebih mungkin terjadi ?')\n",
        "print('A. Seseorang dengan BMI diatas 25 mendapatkan tagihan kesehatan diatas 16.7k  :', Paa)\n",
        "print('B. Seseorang dengan BMI dibawah 25 mendapatkan tagihan kesehatan diatas 16.7k :', Pab)\n",
        "\n",
        "print('\\nJawaban : ')\n",
        "\n",
        "if Paa > Pab:\n",
        "  print('A. Seseorang dengan BMI diatas 25 mendapatkan tagihan kesehatan diatas 16.7k dengan hasil : ', Paa)\n",
        "elif Paa < Pab:\n",
        "  print('B. Seseorang dengan BMI dibawah 25 mendapatkan tagihan kesehatan diatas 16.7k dengan hasil : ', Pab)"
      ]
    },
    {
      "cell_type": "markdown",
      "metadata": {
        "id": "XJBq7O6udnKk"
      },
      "source": [
        "#### Mana yang lebih mungkin terjadi\n",
        "##### Seseorang perokok dengan BMI diatas 25 mendapatkan tagihan kesehatan diatas 16.7k, atau Seseorang non perokok dengan BMI diatas 25 mendapatkan tagihan kesehatan diatas 16.7k"
      ]
    },
    {
      "cell_type": "code",
      "execution_count": 20,
      "metadata": {
        "colab": {
          "base_uri": "https://localhost:8080/",
          "height": 410
        },
        "id": "3ggEGdot4hlb",
        "outputId": "49838762-821d-4493-b7e4-c5644098cd5b"
      },
      "outputs": [
        {
          "name": "stdout",
          "output_type": "stream",
          "text": [
            "Mana yang lebih mungkin terjadi ?\n",
            "A. Seseorang perokok dengan BMI diatas 25 mendapatkan tagihan kesehatan diatas 16.7k  : 0.8347744360902256\n",
            "B. Seseorang non perokok dengan BMI diatas 25 mendapatkan tagihan kesehatan diatas 16.7k : 0.4764066900396574\n",
            "\n",
            "Jawaban : \n",
            "A. Seseorang perokok dengan BMI diatas 25 mendapatkan tagihan kesehatan diatas 16.7k dengan hasil :  0.8347744360902256\n"
          ]
        },
        {
          "data": {
            "image/png": "[encoded data removed]",
            "text/plain": [
              "<Figure size 432x288 with 1 Axes>"
            ]
          },
          "metadata": {
            "needs_background": "light"
          },
          "output_type": "display_data"
        }
      ],
      "source": [
        "from re import X\n",
        "# Mana yang lebih mungkin terjadi\n",
        "# A. Seseorang perokok dengan BMI diatas 25 mendapatkan tagihan kesehatan diatas 16.7k, atau\n",
        "# B. Seseorang non perokok dengan BMI diatas 25 mendapatkan tagihan kesehatan diatas 16.7k\n",
        "\n",
        "smoker_yes_bmi = df[(df['smoker'] == 0)]\n",
        "smoker_no_bmi = df[(df['smoker'] == 1)]\n",
        "\n",
        "bmi_above_25_x = smoker_yes_bmi[(smoker_yes_bmi['bmi'] > 25)]\n",
        "bmi_under_25_x = smoker_yes_bmi[(smoker_yes_bmi['bmi'] < 25)]\n",
        "\n",
        "bmi_above_25_y = smoker_no_bmi[(smoker_no_bmi['bmi'] > 25)]\n",
        "bmi_under_25_y = smoker_no_bmi[(smoker_no_bmi['bmi'] < 25)]\n",
        "\n",
        "counta_smoker_x = smoker_yes_bmi[(smoker_yes_bmi['charges'] > 16700)]\n",
        "counta_smoker_y = smoker_no_bmi[(smoker_no_bmi['charges'] > 16700)]\n",
        "\n",
        "bmi_x_charges_above_16_a = bmi_above_25_x[(bmi_above_25_x['charges'] > 16700)]\n",
        "bmi_y_charges_above_16_a = bmi_under_25_x[(bmi_under_25_x['charges'] > 16700)]\n",
        "\n",
        "bmi_x_charges_above_16_b = bmi_above_25_y[(bmi_above_25_y['charges'] > 16700)]\n",
        "bmi_y_charges_above_16_b = bmi_under_25_y[(bmi_under_25_y['charges'] > 16700)]\n",
        "\n",
        "# P(A) = n(A)/n(S)\n",
        "# jumlah perokok dan tidak perokok\n",
        "_smoker_yes = smoker_yes_bmi['smoker'].count()\n",
        "_smoker_no  = smoker_no_bmi['smoker'].count()\n",
        "\n",
        "# jumlah perokok dengan BMI 25 dan BMI dibawah 25\n",
        "_smoker_yes_bmi_above = bmi_above_25_x['bmi'].count()\n",
        "_smoker_yes_bmi_under = bmi_under_25_x['bmi'].count()\n",
        "\n",
        "# jumlah tidak perokok dengan BMI 25 dan BMI dibawah 25\n",
        "_smoker_no_bmi_above = bmi_above_25_y['bmi'].count()\n",
        "_smoker_no_bmi_under = bmi_under_25_y['bmi'].count()\n",
        "\n",
        "# jumlah tidak perokok dengan tagihan diatas 16.7K\n",
        "counta_smoker_x\n",
        "counta_smoker_y\n",
        "\n",
        "# peluang dari perokok dengan BMI 25 dan tagihan diatas 16.7K\n",
        "Pax = _smoker_yes_bmi_above / _smoker_yes\n",
        "Pay = _smoker_yes_bmi_under / _smoker_yes\n",
        "\n",
        "Pbx = bmi_x_charges_above_16_a['charges'].count() / counta_smoker_x['charges'].count()\n",
        "Pby = bmi_y_charges_above_16_a['charges'].count() / counta_smoker_x['charges'].count()\n",
        "\n",
        "# peluang dari non-perokok dengan BMI 25 dan tagihan diatas 16.7K\n",
        "Pcx = _smoker_no_bmi_above / _smoker_no\n",
        "Pcy = _smoker_no_bmi_under / _smoker_no\n",
        "\n",
        "Pdx = bmi_x_charges_above_16_b['charges'].count() / counta_smoker_y['charges'].count()\n",
        "Pdy = bmi_y_charges_above_16_b['charges'].count() / counta_smoker_y['charges'].count()\n",
        "\n",
        "\n",
        "Xx = ((Pax+Pbx) / 2) # Perokok\n",
        "Xy = ((Pcx+Pdy) / 2) # Non-Perokok\n",
        "\n",
        "print('Mana yang lebih mungkin terjadi ?')\n",
        "print('A. Seseorang perokok dengan BMI diatas 25 mendapatkan tagihan kesehatan diatas 16.7k  :', Xx)\n",
        "print('B. Seseorang non perokok dengan BMI diatas 25 mendapatkan tagihan kesehatan diatas 16.7k :', Xy)\n",
        "\n",
        "print('\\nJawaban : ')\n",
        "\n",
        "if Xx > Xy:\n",
        "  print('A. Seseorang perokok dengan BMI diatas 25 mendapatkan tagihan kesehatan diatas 16.7k dengan hasil : ', Xx)\n",
        "elif Xx < Xy:\n",
        "  print('B. Seseorang non perokok dengan BMI diatas 25 mendapatkan tagihan kesehatan diatas 16.7k dengan hasil : ', Xy)\n",
        "\n",
        "names = ['Pax', 'Pay', 'Pbx', 'Pby', 'Pcx', 'Pcy', 'Pdx', 'Pdy']\n",
        "values = [Pax, Pay, Pbx, Pby, Pcx, Pcy, Pdx, Pdy]\n",
        "\n",
        "plt.plot(names, values)\n",
        "plt.suptitle('Chart Kemungkinan')\n",
        "plt.xlabel('Peluang')\n",
        "plt.ylabel('Persentase')\n",
        "plt.show()"
      ]
    },
    {
      "cell_type": "markdown",
      "metadata": {},
      "source": [
        "### Soal Nomor 4 - Analisis Korelasi Variabel"
      ]
    },
    {
      "cell_type": "code",
      "execution_count": 21,
      "metadata": {},
      "outputs": [
        {
          "data": {
            "image/png": "[encoded data removed]",
            "text/plain": [
              "<Figure size 432x288 with 2 Axes>"
            ]
          },
          "metadata": {
            "needs_background": "light"
          },
          "output_type": "display_data"
        }
      ],
      "source": [
        "sns.heatmap(df.corr(), cmap=\"YlGnBu\", annot = True)\n",
        "plt.show()"
      ]
    },
    {
      "cell_type": "markdown",
      "metadata": {},
      "source": [
        "berdasarkan heatmap di atas, terlihat bahwa variabel smoker dengan charges memilki korelasi yang paling tinggi di antara korelasi antar variabel lainnya. Korelasi kuat ini menandakan bahwa perokok memiliki korelasi kuat untuk mendapatkan biaya kesehatan yang besar."
      ]
    },
    {
      "cell_type": "markdown",
      "metadata": {},
      "source": [
        "### Soal Nomor 5 - Uji Hipotesis"
      ]
    },
    {
      "cell_type": "code",
      "execution_count": 25,
      "metadata": {},
      "outputs": [],
      "source": [
        "from scipy import stats\n",
        "import scikit_posthocs as sp"
      ]
    },
    {
      "cell_type": "code",
      "execution_count": 26,
      "metadata": {},
      "outputs": [],
      "source": [
        "def check_normality(data):\n",
        "    test_stat_normality, p_value_normality=stats.shapiro(data)\n",
        "    print(\"p value:%.4f\" % p_value_normality)\n",
        "    if p_value_normality <0.05:\n",
        "        print(\"Tolak null hypothesis >> Data tidak berdistribusi normal\")\n",
        "    else:\n",
        "        print(\"Terima null hypothesis >> Data berdistribusi normal\")  "
      ]
    },
    {
      "cell_type": "code",
      "execution_count": 27,
      "metadata": {},
      "outputs": [],
      "source": [
        "def check_variance_homogeneity(group1, group2):\n",
        "    test_stat_var, p_value_var= stats.levene(group1,group2)\n",
        "    print(\"p value:%.4f\" % p_value_var)\n",
        "    if p_value_var <0.05:\n",
        "        print(\"Tolak null hypothesis >> Varian sampel berbeda\")\n",
        "    else:\n",
        "        print(\"Terima null hypothesis >> Varian sampel sama\")"
      ]
    },
    {
      "cell_type": "code",
      "execution_count": 30,
      "metadata": {},
      "outputs": [
        {
          "ename": "KeyError",
          "evalue": "\"None of [Float64Index([  1725.5523,    4449.462, 21984.47061,   3866.8552,   3756.6216,\\n                8240.5896,   7281.5056,   6406.4107, 28923.13692,   2721.3208,\\n              ...\\n                9377.9047, 22395.74424,   10325.206,  12629.1656, 10795.93733,\\n                11411.685,  10600.5483,   2205.9808,   1629.8335,    2007.945],\\n             dtype='float64', length=1064)] are in the [columns]\"",
          "output_type": "error",
          "traceback": [
            "\u001b[0;31m---------------------------------------------------------------------------\u001b[0m",
            "\u001b[0;31mKeyError\u001b[0m                                  Traceback (most recent call last)",
            "\u001b[0;32m<ipython-input-30-d3ba64ec1176>\u001b[0m in \u001b[0;36m<module>\u001b[0;34m\u001b[0m\n\u001b[1;32m      2\u001b[0m \u001b[0;34m\u001b[0m\u001b[0m\n\u001b[1;32m      3\u001b[0m \u001b[0;31m#perokok\u001b[0m\u001b[0;34m\u001b[0m\u001b[0;34m\u001b[0m\u001b[0;34m\u001b[0m\u001b[0m\n\u001b[0;32m----> 4\u001b[0;31m \u001b[0mcharges_smoker_yes\u001b[0m \u001b[0;34m=\u001b[0m \u001b[0msmoker_yes_bmi\u001b[0m\u001b[0;34m[\u001b[0m\u001b[0;34m(\u001b[0m\u001b[0msmoker_yes_bmi\u001b[0m\u001b[0;34m[\u001b[0m\u001b[0;34m'charges'\u001b[0m\u001b[0;34m]\u001b[0m\u001b[0;34m)\u001b[0m\u001b[0;34m]\u001b[0m\u001b[0;34m\u001b[0m\u001b[0;34m\u001b[0m\u001b[0m\n\u001b[0m\u001b[1;32m      5\u001b[0m \u001b[0mcheck_normality\u001b[0m\u001b[0;34m(\u001b[0m\u001b[0mcharges_smoker_yes\u001b[0m\u001b[0;34m)\u001b[0m\u001b[0;34m\u001b[0m\u001b[0;34m\u001b[0m\u001b[0m\n\u001b[1;32m      6\u001b[0m \u001b[0;31m# non perokok\u001b[0m\u001b[0;34m\u001b[0m\u001b[0;34m\u001b[0m\u001b[0;34m\u001b[0m\u001b[0m\n",
            "\u001b[0;32m~/opt/anaconda3/lib/python3.7/site-packages/pandas/core/frame.py\u001b[0m in \u001b[0;36m__getitem__\u001b[0;34m(self, key)\u001b[0m\n\u001b[1;32m   3462\u001b[0m             \u001b[0;32mif\u001b[0m \u001b[0mis_iterator\u001b[0m\u001b[0;34m(\u001b[0m\u001b[0mkey\u001b[0m\u001b[0;34m)\u001b[0m\u001b[0;34m:\u001b[0m\u001b[0;34m\u001b[0m\u001b[0;34m\u001b[0m\u001b[0m\n\u001b[1;32m   3463\u001b[0m                 \u001b[0mkey\u001b[0m \u001b[0;34m=\u001b[0m \u001b[0mlist\u001b[0m\u001b[0;34m(\u001b[0m\u001b[0mkey\u001b[0m\u001b[0;34m)\u001b[0m\u001b[0;34m\u001b[0m\u001b[0;34m\u001b[0m\u001b[0m\n\u001b[0;32m-> 3464\u001b[0;31m             \u001b[0mindexer\u001b[0m \u001b[0;34m=\u001b[0m \u001b[0mself\u001b[0m\u001b[0;34m.\u001b[0m\u001b[0mloc\u001b[0m\u001b[0;34m.\u001b[0m\u001b[0m_get_listlike_indexer\u001b[0m\u001b[0;34m(\u001b[0m\u001b[0mkey\u001b[0m\u001b[0;34m,\u001b[0m \u001b[0maxis\u001b[0m\u001b[0;34m=\u001b[0m\u001b[0;36m1\u001b[0m\u001b[0;34m)\u001b[0m\u001b[0;34m[\u001b[0m\u001b[0;36m1\u001b[0m\u001b[0;34m]\u001b[0m\u001b[0;34m\u001b[0m\u001b[0;34m\u001b[0m\u001b[0m\n\u001b[0m\u001b[1;32m   3465\u001b[0m \u001b[0;34m\u001b[0m\u001b[0m\n\u001b[1;32m   3466\u001b[0m         \u001b[0;31m# take() does not accept boolean indexers\u001b[0m\u001b[0;34m\u001b[0m\u001b[0;34m\u001b[0m\u001b[0;34m\u001b[0m\u001b[0m\n",
            "\u001b[0;32m~/opt/anaconda3/lib/python3.7/site-packages/pandas/core/indexing.py\u001b[0m in \u001b[0;36m_get_listlike_indexer\u001b[0;34m(self, key, axis)\u001b[0m\n\u001b[1;32m   1312\u001b[0m             \u001b[0mkeyarr\u001b[0m\u001b[0;34m,\u001b[0m \u001b[0mindexer\u001b[0m\u001b[0;34m,\u001b[0m \u001b[0mnew_indexer\u001b[0m \u001b[0;34m=\u001b[0m \u001b[0max\u001b[0m\u001b[0;34m.\u001b[0m\u001b[0m_reindex_non_unique\u001b[0m\u001b[0;34m(\u001b[0m\u001b[0mkeyarr\u001b[0m\u001b[0;34m)\u001b[0m\u001b[0;34m\u001b[0m\u001b[0;34m\u001b[0m\u001b[0m\n\u001b[1;32m   1313\u001b[0m \u001b[0;34m\u001b[0m\u001b[0m\n\u001b[0;32m-> 1314\u001b[0;31m         \u001b[0mself\u001b[0m\u001b[0;34m.\u001b[0m\u001b[0m_validate_read_indexer\u001b[0m\u001b[0;34m(\u001b[0m\u001b[0mkeyarr\u001b[0m\u001b[0;34m,\u001b[0m \u001b[0mindexer\u001b[0m\u001b[0;34m,\u001b[0m \u001b[0maxis\u001b[0m\u001b[0;34m)\u001b[0m\u001b[0;34m\u001b[0m\u001b[0;34m\u001b[0m\u001b[0m\n\u001b[0m\u001b[1;32m   1315\u001b[0m \u001b[0;34m\u001b[0m\u001b[0m\n\u001b[1;32m   1316\u001b[0m         if needs_i8_conversion(ax.dtype) or isinstance(\n",
            "\u001b[0;32m~/opt/anaconda3/lib/python3.7/site-packages/pandas/core/indexing.py\u001b[0m in \u001b[0;36m_validate_read_indexer\u001b[0;34m(self, key, indexer, axis)\u001b[0m\n\u001b[1;32m   1372\u001b[0m                 \u001b[0;32mif\u001b[0m \u001b[0muse_interval_msg\u001b[0m\u001b[0;34m:\u001b[0m\u001b[0;34m\u001b[0m\u001b[0;34m\u001b[0m\u001b[0m\n\u001b[1;32m   1373\u001b[0m                     \u001b[0mkey\u001b[0m \u001b[0;34m=\u001b[0m \u001b[0mlist\u001b[0m\u001b[0;34m(\u001b[0m\u001b[0mkey\u001b[0m\u001b[0;34m)\u001b[0m\u001b[0;34m\u001b[0m\u001b[0;34m\u001b[0m\u001b[0m\n\u001b[0;32m-> 1374\u001b[0;31m                 \u001b[0;32mraise\u001b[0m \u001b[0mKeyError\u001b[0m\u001b[0;34m(\u001b[0m\u001b[0;34mf\"None of [{key}] are in the [{axis_name}]\"\u001b[0m\u001b[0;34m)\u001b[0m\u001b[0;34m\u001b[0m\u001b[0;34m\u001b[0m\u001b[0m\n\u001b[0m\u001b[1;32m   1375\u001b[0m \u001b[0;34m\u001b[0m\u001b[0m\n\u001b[1;32m   1376\u001b[0m             \u001b[0mnot_found\u001b[0m \u001b[0;34m=\u001b[0m \u001b[0mlist\u001b[0m\u001b[0;34m(\u001b[0m\u001b[0mensure_index\u001b[0m\u001b[0;34m(\u001b[0m\u001b[0mkey\u001b[0m\u001b[0;34m)\u001b[0m\u001b[0;34m[\u001b[0m\u001b[0mmissing_mask\u001b[0m\u001b[0;34m.\u001b[0m\u001b[0mnonzero\u001b[0m\u001b[0;34m(\u001b[0m\u001b[0;34m)\u001b[0m\u001b[0;34m[\u001b[0m\u001b[0;36m0\u001b[0m\u001b[0;34m]\u001b[0m\u001b[0;34m]\u001b[0m\u001b[0;34m.\u001b[0m\u001b[0munique\u001b[0m\u001b[0;34m(\u001b[0m\u001b[0;34m)\u001b[0m\u001b[0;34m)\u001b[0m\u001b[0;34m\u001b[0m\u001b[0;34m\u001b[0m\u001b[0m\n",
            "\u001b[0;31mKeyError\u001b[0m: \"None of [Float64Index([  1725.5523,    4449.462, 21984.47061,   3866.8552,   3756.6216,\\n                8240.5896,   7281.5056,   6406.4107, 28923.13692,   2721.3208,\\n              ...\\n                9377.9047, 22395.74424,   10325.206,  12629.1656, 10795.93733,\\n                11411.685,  10600.5483,   2205.9808,   1629.8335,    2007.945],\\n             dtype='float64', length=1064)] are in the [columns]\""
          ]
        }
      ],
      "source": [
        "# cek normalitas setiap perokok dan non perokok\n",
        "\n",
        "#perokok\n",
        "charges_smoker_yes = smoker_yes_bmi[(smoker_yes_bmi['charges'])]\n",
        "check_normality(charges_smoker_yes)\n",
        "# non perokok\n",
        "check_normality(counta_smoker_y)"
      ]
    }
  ],
  "metadata": {
    "colab": {
      "collapsed_sections": [],
      "provenance": []
    },
    "kernelspec": {
      "display_name": "Python 3.7.6 ('base')",
      "language": "python",
      "name": "python3"
    },
    "language_info": {
      "codemirror_mode": {
        "name": "ipython",
        "version": 3
      },
      "file_extension": ".py",
      "mimetype": "text/x-python",
      "name": "python",
      "nbconvert_exporter": "python",
      "pygments_lexer": "ipython3",
      "version": "3.7.6"
    },
    "vscode": {
      "interpreter": {
        "hash": "7e96b86f03d7d42bb76aac26192874394f42efe9d96b48d22368bab7dabddb55"
      }
    }
  },
  "nbformat": 4,
  "nbformat_minor": 0
}
